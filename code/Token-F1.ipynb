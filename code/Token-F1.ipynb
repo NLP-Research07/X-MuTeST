{
 "cells": [
  {
   "cell_type": "code",
   "execution_count": null,
   "id": "72f971d5",
   "metadata": {},
   "outputs": [],
   "source": [
    "from sklearn.metrics import classification_report\n",
    "from sklearn.metrics import accuracy_score\n",
    "from sklearn.metrics import roc_auc_score\n",
    "from sklearn.metrics import log_loss\n",
    "from sklearn.metrics import f1_score\n",
    "from sklearn.metrics import precision_recall_fscore_support\n",
    "import pandas as pd\n",
    "import ast\n",
    "\n",
    "# Load your dataset\n",
    "data = pd.read_excel('read file here')\n",
    "\n",
    "# Convert string representation of lists to actual lists using ast.literal_eval\n",
    "df['rationale'] = df['rationale'].apply(lambda x: ast.literal_eval(x) if isinstance(x, str) else x)\n",
    "df['pred_rationale'] = df['pred_rationale'].apply(lambda x: ast.literal_eval(x) if isinstance(x, str) else x)\n",
    "\n",
    "# Combine all lists in the column into one large list\n",
    "y_pred1 = sum(df['rationale'], [])\n",
    "test_label= sum(df['pred_rationale'], [])\n",
    "\n",
    "# Print the lengths of the combined lists\n",
    "print(len(y_pred1))\n",
    "print(len(test_label))"
   ]
  },
  {
   "cell_type": "code",
   "execution_count": null,
   "id": "f54b0703",
   "metadata": {},
   "outputs": [],
   "source": [
    "f1 = f1_score( test_label, y_pred1 )\n",
    "print(\"f1 :\" , f1)"
   ]
  }
 ],
 "metadata": {
  "kernelspec": {
   "display_name": "Python 3 (ipykernel)",
   "language": "python",
   "name": "python3"
  },
  "language_info": {
   "codemirror_mode": {
    "name": "ipython",
    "version": 3
   },
   "file_extension": ".py",
   "mimetype": "text/x-python",
   "name": "python",
   "nbconvert_exporter": "python",
   "pygments_lexer": "ipython3",
   "version": "3.9.13"
  }
 },
 "nbformat": 4,
 "nbformat_minor": 5
}
