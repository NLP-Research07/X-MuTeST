{
 "cells": [
  {
   "cell_type": "code",
   "execution_count": 1,
   "metadata": {
    "id": "4Y9Gv79E8tiZ"
   },
   "outputs": [],
   "source": [
    "import pandas as pd\n",
    "import ast\n",
    "\n",
    "data = pd.read_excel('path', index_col=0)\n",
    "\n",
    "# Function to assign 1s and 0s based on the scores\n",
    "def process_scores(scores):\n",
    "    scores = ast.literal_eval(scores)\n",
    "    num_tokens = len(scores)\n",
    "\n",
    "    # Initialize attention vector with all zeros\n",
    "    attention_vector = [0] * num_tokens\n",
    "\n",
    "    if num_tokens == 1:\n",
    "        # If there's only one token, assign 1\n",
    "        attention_vector[0] = 1\n",
    "    else:\n",
    "        # Sort indices based on the scores (ascending order)\n",
    "        sorted_indices = sorted(range(num_tokens), key=lambda i: scores[i])\n",
    "\n",
    "        if num_tokens > 10:\n",
    "            # Assign 1 to the lowest 3 scores if there are more than 6 tokens\n",
    "            bottom_indices = sorted_indices[:5]\n",
    "        else:\n",
    "            # Assign 1 to half the lowest scores if there are fewer than 6 tokens\n",
    "            half_length = num_tokens // 2\n",
    "            bottom_indices = sorted_indices[:half_length]\n",
    "\n",
    "        # Update attention vector\n",
    "        for idx in bottom_indices:\n",
    "            attention_vector[idx] = 1\n",
    "\n",
    "    return attention_vector\n",
    "\n",
    "# Apply the function to each row in the DataFrame and create a new column\n",
    "data['pred_rationales'] = data['ngram_scores'].apply(process_scores)\n",
    "\n",
    "# Display the DataFrame\n",
    "data.head()\n",
    "\n",
    "\n",
    "data.to_excel('save file')"
   ]
  },
  {
   "cell_type": "code",
   "execution_count": null,
   "metadata": {},
   "outputs": [],
   "source": []
  }
 ],
 "metadata": {
  "colab": {
   "provenance": []
  },
  "kernelspec": {
   "display_name": "Python 3 (ipykernel)",
   "language": "python",
   "name": "python3"
  },
  "language_info": {
   "codemirror_mode": {
    "name": "ipython",
    "version": 3
   },
   "file_extension": ".py",
   "mimetype": "text/x-python",
   "name": "python",
   "nbconvert_exporter": "python",
   "pygments_lexer": "ipython3",
   "version": "3.9.13"
  }
 },
 "nbformat": 4,
 "nbformat_minor": 1
}
