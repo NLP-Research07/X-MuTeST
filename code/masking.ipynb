{
 "cells": [
  {
   "cell_type": "code",
   "execution_count": null,
   "id": "3e724e27",
   "metadata": {},
   "outputs": [],
   "source": [
    "import pandas as pd\n",
    "import ast\n",
    "\n",
    "# Load the CSV file into a DataFrame\n",
    "data = pd.read_excel('read file here')\n",
    "data.head(5)"
   ]
  },
  {
   "cell_type": "code",
   "execution_count": null,
   "id": "de7a0398",
   "metadata": {},
   "outputs": [],
   "source": [
    "# mask for comprehensiveness (mask rationales)\n",
    "def mask_sentence(sentence, attention_mask):\n",
    "    words = sentence.split()  # Split sentence into words\n",
    "    masked_sentence = []\n",
    "\n",
    "    for i, word in enumerate(words):\n",
    "        # If the attention mask is 1 and within range of the words\n",
    "        if i < len(attention_mask) and attention_mask[i] == 1:\n",
    "            masked_sentence.append('<mask>')\n",
    "        else:\n",
    "            masked_sentence.append(word)\n",
    "\n",
    "    return ' '.join(masked_sentence)\n",
    "\n",
    "# Apply the masking only where is_hateful is 1\n",
    "data['masked_comp'] = data.apply(lambda row: mask_sentence(row['text'], eval(row['rationale']))\n",
    "                             if row['label'] == 1 else row['text'], axis=1)\n"
   ]
  },
  {
   "cell_type": "code",
   "execution_count": null,
   "id": "a9089b9a",
   "metadata": {},
   "outputs": [],
   "source": [
    "# mask for sufficiency (mask other tokens)\n",
    "def inverse_mask_sentence(sentence, attention_mask):\n",
    "    words = sentence.split()  # Split sentence into words\n",
    "    masked_sentence = []\n",
    "\n",
    "    for i, word in enumerate(words):\n",
    "        # If the attention mask is 0 and within range of the words\n",
    "        if i < len(attention_mask) and attention_mask[i] == 0:\n",
    "            masked_sentence.append('<mask>')\n",
    "        else:\n",
    "            masked_sentence.append(word)\n",
    "\n",
    "    return ' '.join(masked_sentence)\n",
    "\n",
    "# Apply the inverse masking only where is_hateful is 1\n",
    "data['masked_suff'] = data.apply(lambda row: inverse_mask_sentence(row['text'], eval(row['rationale']))\n",
    "                             if row['label'] == 1 else row['text'], axis=1)"
   ]
  },
  {
   "cell_type": "code",
   "execution_count": null,
   "id": "dfa232bf",
   "metadata": {},
   "outputs": [],
   "source": [
    "data.to_excel('save file')"
   ]
  }
 ],
 "metadata": {
  "kernelspec": {
   "display_name": "Python 3 (ipykernel)",
   "language": "python",
   "name": "python3"
  },
  "language_info": {
   "codemirror_mode": {
    "name": "ipython",
    "version": 3
   },
   "file_extension": ".py",
   "mimetype": "text/x-python",
   "name": "python",
   "nbconvert_exporter": "python",
   "pygments_lexer": "ipython3",
   "version": "3.9.13"
  }
 },
 "nbformat": 4,
 "nbformat_minor": 5
}
