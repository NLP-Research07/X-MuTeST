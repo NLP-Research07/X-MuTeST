{
 "cells": [
  {
   "cell_type": "code",
   "execution_count": null,
   "metadata": {
    "colab": {
     "base_uri": "https://localhost:8080/"
    },
    "id": "IeJ7wumM3-qq",
    "outputId": "279069b8-abbb-487c-c0d3-e11bd9eff938"
   },
   "outputs": [],
   "source": [
    "!pip install transformers"
   ]
  },
  {
   "cell_type": "code",
   "execution_count": null,
   "metadata": {
    "colab": {
     "base_uri": "https://localhost:8080/"
    },
    "id": "rbVB9Ks3zaHV",
    "outputId": "752b6ced-f963-48bd-dbc5-edac4ceb8997"
   },
   "outputs": [],
   "source": [
    "from google.colab import drive\n",
    "drive.mount('/content/drive')"
   ]
  },
  {
   "cell_type": "code",
   "execution_count": null,
   "metadata": {
    "colab": {
     "base_uri": "https://localhost:8080/"
    },
    "id": "a8HJoNU23_lo",
    "outputId": "8c09216c-e934-4315-f7e6-645722c4e123"
   },
   "outputs": [],
   "source": [
    "import pandas as pd\n",
    "from transformers import AutoTokenizer, AutoModelForSequenceClassification, Trainer, TrainingArguments\n",
    "import torch\n",
    "from sklearn.metrics import accuracy_score\n",
    "\n",
    "\n",
    "train_data = pd.read_csv('read file here')\n",
    "test_data = pd.read_csv('read file here')\n",
    "\n",
    "\n",
    "train_texts = train_data['text'].astype(str).tolist()\n",
    "train_labels = train_data['label'].tolist()\n",
    "\n",
    "\n",
    "test_texts = test_data['text'].astype(str).tolist()\n",
    "test_labels = test_data['label'].tolist()\n",
    "\n",
    "\n",
    "tokenizer = AutoTokenizer.from_pretrained('ai4bharat/indic-bert')\n",
    "\n",
    "telugu_tokens = train_data['tokens'].dropna().str.split().explode().unique().tolist()\n",
    "\n",
    "new_tokens = set(telugu_tokens) - set(tokenizer.vocab.keys())\n",
    "\n",
    "tokenizer.add_tokens(list(new_tokens))\n",
    "\n",
    "print(f\"Added {len(new_tokens)} new tokens to the tokenizer.\")"
   ]
  },
  {
   "cell_type": "code",
   "execution_count": null,
   "metadata": {
    "id": "QH-Y8OK-4BsK"
   },
   "outputs": [],
   "source": [
    "train_encodings = tokenizer(train_texts, truncation=True, padding=True, max_length=128)\n",
    "test_encodings = tokenizer(test_texts, truncation=True, padding=True, max_length=128)"
   ]
  },
  {
   "cell_type": "code",
   "execution_count": null,
   "metadata": {
    "colab": {
     "base_uri": "https://localhost:8080/"
    },
    "id": "uYVnm07d4D_5",
    "outputId": "7c5b6fd7-9d57-4485-c774-2fc121ccb515"
   },
   "outputs": [],
   "source": [
    "class HateSpeechDataset(torch.utils.data.Dataset):\n",
    "    def __init__(self, encodings, labels):\n",
    "        self.encodings = encodings\n",
    "        self.labels = labels\n",
    "\n",
    "    def __getitem__(self, idx):\n",
    "        item = {key: torch.tensor(val[idx]) for key, val in self.encodings.items()}\n",
    "        item['labels'] = torch.tensor(self.labels[idx])\n",
    "        return item\n",
    "\n",
    "    def __len__(self):\n",
    "        return len(self.labels)\n",
    "\n",
    "\n",
    "train_dataset = HateSpeechDataset(train_encodings, train_labels)\n",
    "test_dataset = HateSpeechDataset(test_encodings, test_labels)\n",
    "\n",
    "\n",
    "model = AutoModelForSequenceClassification.from_pretrained('ai4bharat/indic-bert', num_labels=2)\n",
    "\n",
    "# Since we've added new tokens, we need to resize the token embedding layer\n",
    "model.resize_token_embeddings(len(tokenizer))"
   ]
  },
  {
   "cell_type": "code",
   "execution_count": null,
   "metadata": {
    "id": "TTWjPvob7tVZ"
   },
   "outputs": [],
   "source": [
    "def make_model_contiguous(model):\n",
    "    for param in model.parameters():\n",
    "        param.data = param.data.contiguous()"
   ]
  },
  {
   "cell_type": "code",
   "execution_count": null,
   "metadata": {
    "id": "_F8E-_bb7t-M"
   },
   "outputs": [],
   "source": [
    "make_model_contiguous(model)"
   ]
  },
  {
   "cell_type": "code",
   "execution_count": null,
   "metadata": {
    "colab": {
     "base_uri": "https://localhost:8080/",
     "height": 786
    },
    "id": "nmuWzNid4F8r",
    "outputId": "314885c9-f5e1-4443-b722-4344104e4482",
    "scrolled": true
   },
   "outputs": [],
   "source": [
    "training_args = TrainingArguments(\n",
    "    output_dir='./results',              # Output directory for the model\n",
    "    evaluation_strategy=\"epoch\",         # Evaluate after every epoch\n",
    "    save_strategy=\"epoch\",               # Save the model after every epoch\n",
    "    per_device_train_batch_size=32,      # Increase batch size for training\n",
    "    per_device_eval_batch_size=32,       # Increase batch size for evaluation\n",
    "    num_train_epochs=20,                 # Train for 20 epochs\n",
    "    weight_decay=0.01,                   # Apply weight decay\n",
    "    logging_dir='./logs',                # Log directory\n",
    "    logging_steps=10,                    # Log every 10 steps\n",
    "    learning_rate=5e-5,                  # Adjust learning rate\n",
    "    lr_scheduler_type=\"cosine_with_restarts\", # Use a learning rate scheduler\n",
    "    warmup_steps=500,                    # Add a warmup period to stabilize early training\n",
    "    load_best_model_at_end=True,         # Load the best model at the end of training\n",
    "    save_total_limit=3,                  # Limit the number of saved checkpoints\n",
    ")\n",
    "\n",
    "# Function to compute accuracy\n",
    "def compute_metrics(eval_pred):\n",
    "    logits, labels = eval_pred\n",
    "    predictions = torch.argmax(torch.tensor(logits), dim=-1)\n",
    "    acc = accuracy_score(labels, predictions.numpy())\n",
    "    return {'accuracy': acc}\n",
    "\n",
    "# Initialize the Trainer object for fine-tuning\n",
    "trainer = Trainer(\n",
    "    model=model,                         # mBERT model\n",
    "    args=training_args,                  # Training arguments\n",
    "    train_dataset=train_dataset,         # Training dataset\n",
    "    eval_dataset=test_dataset,           # Test dataset for evaluation\n",
    "    compute_metrics=compute_metrics      # Pass the custom accuracy computation function\n",
    ")\n",
    "\n",
    "# Fine-tune the model\n",
    "trainer.train()\n",
    "\n",
    "# Evaluate the model on the test dataset and calculate accuracy\n",
    "results = trainer.evaluate()\n",
    "print(f\"Test Accuracy: {results['eval_accuracy']:.4f}\")"
   ]
  },
  {
   "cell_type": "code",
   "execution_count": null,
   "metadata": {
    "colab": {
     "base_uri": "https://localhost:8080/"
    },
    "id": "z_uG4eX14INW",
    "outputId": "75e9936e-9d48-4fd0-9912-5a863032e3b7"
   },
   "outputs": [],
   "source": [
    "# Save the trained model and tokenizer\n",
    "model_save_path = 'path'\n",
    "tokenizer_save_path = 'path'\n",
    "\n",
    "# Save model\n",
    "model.save_pretrained(model_save_path)\n",
    "\n",
    "# Save tokenizer\n",
    "tokenizer.save_pretrained(tokenizer_save_path)\n",
    "\n",
    "print(f\"Model and tokenizer saved to {model_save_path} and {tokenizer_save_path}, respectively.\")"
   ]
  },
  {
   "cell_type": "code",
   "execution_count": null,
   "metadata": {
    "id": "MpzQcZ6g0xlS"
   },
   "outputs": [],
   "source": [
    "from sklearn.metrics import accuracy_score, precision_score, recall_score, f1_score\n",
    "import torch\n",
    "import torch.nn.functional as F\n",
    "\n",
    "def compute_metrics(eval_pred):\n",
    "    logits, labels = eval_pred\n",
    "    predictions = torch.argmax(torch.tensor(logits), dim=-1)\n",
    "    probs = F.softmax(torch.tensor(logits), dim=-1)\n",
    "\n",
    "    # Convert predictions and labels to numpy arrays\n",
    "    predictions = predictions.numpy()\n",
    "    labels = labels\n",
    "\n",
    "    # Compute metrics for binary classification\n",
    "    acc = accuracy_score(labels, predictions)\n",
    "    precision = precision_score(labels, predictions, average='binary')\n",
    "    recall = recall_score(labels, predictions, average='binary')\n",
    "    f1 = f1_score(labels, predictions, average='binary')\n",
    "\n",
    "    # Compute macro metrics\n",
    "    macro_precision = precision_score(labels, predictions, average='macro')\n",
    "    macro_recall = recall_score(labels, predictions, average='macro')\n",
    "    macro_f1 = f1_score(labels, predictions, average='macro')\n",
    "\n",
    "    # Return only scalar values to avoid logging issues\n",
    "    return {\n",
    "        'accuracy': acc,\n",
    "        'precision': precision,\n",
    "        'recall': recall,\n",
    "        'f1': f1,\n",
    "        'macro_precision': macro_precision,\n",
    "        'macro_recall': macro_recall,\n",
    "        'macro_f1': macro_f1\n",
    "    }\n"
   ]
  },
  {
   "cell_type": "code",
   "execution_count": null,
   "metadata": {
    "colab": {
     "base_uri": "https://localhost:8080/",
     "height": 54
    },
    "id": "6pqmCsXA4K1w",
    "outputId": "6802be43-67e5-46e3-a483-bf0cec3a668b"
   },
   "outputs": [],
   "source": [
    "# Reload the model and tokenizer\n",
    "model = AutoModelForSequenceClassification.from_pretrained(model_save_path)\n",
    "tokenizer = AutoTokenizer.from_pretrained(tokenizer_save_path)\n",
    "\n",
    "# Tokenize test data\n",
    "test_encodings = tokenizer(test_texts, truncation=True, padding=True, max_length=128)\n",
    "test_dataset = HateSpeechDataset(test_encodings, test_labels)\n",
    "\n",
    "# Initialize Trainer for evaluation\n",
    "training_args = TrainingArguments(\n",
    "    output_dir='./results',          # Output directory for the model\n",
    "    per_device_eval_batch_size=16,   # Batch size for evaluation\n",
    ")\n",
    "\n",
    "trainer = Trainer(\n",
    "    model=model,                         # Reloaded mBERT model\n",
    "    args=training_args,                  # Training arguments\n",
    "    eval_dataset=test_dataset,           # Test dataset for evaluation\n",
    "    compute_metrics=compute_metrics      # Pass the custom accuracy computation function\n",
    ")\n",
    "\n",
    "# Evaluate the model on the test dataset and calculate accuracy\n",
    "results = trainer.evaluate()\n",
    "print(f\"Test Accuracy: {results['eval_accuracy']:.4f}\")"
   ]
  },
  {
   "cell_type": "code",
   "execution_count": null,
   "metadata": {
    "colab": {
     "base_uri": "https://localhost:8080/"
    },
    "id": "dZsmdw8n1CD7",
    "outputId": "5f60a001-002b-46b5-a363-4629ad35eef1"
   },
   "outputs": [],
   "source": [
    "results"
   ]
  }
 ],
 "metadata": {
  "accelerator": "GPU",
  "colab": {
   "gpuType": "T4",
   "provenance": []
  },
  "kernelspec": {
   "display_name": "Python 3 (ipykernel)",
   "language": "python",
   "name": "python3"
  },
  "language_info": {
   "codemirror_mode": {
    "name": "ipython",
    "version": 3
   },
   "file_extension": ".py",
   "mimetype": "text/x-python",
   "name": "python",
   "nbconvert_exporter": "python",
   "pygments_lexer": "ipython3",
   "version": "3.9.13"
  }
 },
 "nbformat": 4,
 "nbformat_minor": 1
}
