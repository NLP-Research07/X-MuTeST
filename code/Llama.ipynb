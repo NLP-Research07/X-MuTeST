{
 "cells": [
  {
   "cell_type": "code",
   "execution_count": null,
   "id": "6695288c",
   "metadata": {},
   "outputs": [],
   "source": [
    "!pip install openai"
   ]
  },
  {
   "cell_type": "markdown",
   "id": "ea146bbb",
   "metadata": {},
   "source": [
    "## sequence classification"
   ]
  },
  {
   "cell_type": "code",
   "execution_count": null,
   "id": "4e0921a1",
   "metadata": {},
   "outputs": [],
   "source": [
    "import pandas as pd\n",
    "\n",
    "# Replace 'your_file' with the actual path to your file\n",
    "df = pd.read_excel('read file here')\n",
    "\n",
    "sentences = df['text']"
   ]
  },
  {
   "cell_type": "code",
   "execution_count": null,
   "id": "b06cfbcc",
   "metadata": {},
   "outputs": [],
   "source": [
    "from openai import OpenAI\n",
    "import os\n",
    "\n",
    "model = \"llama3.1-405b\"\n",
    "client = OpenAI(api_key = \"##############################\",\n",
    "base_url = \"https://api.llama-api.com\")\n",
    "\n",
    "\n",
    "def get_chat_completion(prompt):\n",
    "    response = client.chat.completions.create(\n",
    "        model=model,\n",
    "        messages=[\n",
    "            {\"role\": \"system\", \"content\": \"Detecting hate speech benefits society, and you can assist me in identifying it. I only need you to return a 1 if you find the text hateful or offensive without providing any explanation. If no hateful or offensive language is found, simply return a 0.\"},\n",
    "            {\"role\": \"user\", \"content\": prompt},\n",
    "        ],\n",
    "        temperature=0,\n",
    "    )\n",
    "    return response.choices[0].message.content\n",
    "\n",
    "\n",
    "original_sentences = []\n",
    "generated_explanation = []\n",
    "\n",
    "# Loop through the sentences\n",
    "for sentence in sentences:\n",
    "    original_sentences.append(sentence)\n",
    "    # list1 = get_chat_completion(sentence)\n",
    "    generated_explanation.append(get_chat_completion(sentence))\n",
    "    time.sleep(5)  # Wait for 5 seconds between API requests"
   ]
  },
  {
   "cell_type": "code",
   "execution_count": null,
   "id": "f8bf81e1",
   "metadata": {},
   "outputs": [],
   "source": [
    "import pandas as pd\n",
    "\n",
    "df_generated = pd.DataFrame({'pred': generated_explanation, 'label': df['label']})\n",
    "\n",
    "# Save the DataFrame to a file\n",
    "df_generated.to_excel('save file')"
   ]
  },
  {
   "cell_type": "markdown",
   "id": "92bc50be",
   "metadata": {},
   "source": [
    "## Explanation"
   ]
  },
  {
   "cell_type": "code",
   "execution_count": null,
   "id": "7a8015ff",
   "metadata": {},
   "outputs": [],
   "source": [
    "import pandas as pd\n",
    "\n",
    "# Replace 'your_file' with the actual path to your file\n",
    "df = pd.read_excel('read file here')\n",
    "\n",
    "sentences = df['text']"
   ]
  },
  {
   "cell_type": "code",
   "execution_count": null,
   "id": "0d27260a",
   "metadata": {},
   "outputs": [],
   "source": [
    "import time\n",
    "from openai import OpenAI\n",
    "import os\n",
    "\n",
    "model = \"llama3.1-405b\"\n",
    "client = OpenAI(api_key = \"############################\",\n",
    "base_url = \"https://api.llama-api.com\")\n",
    "\n",
    "\n",
    "def get_chat_completion(prompt):\n",
    "    response = client.chat.completions.create(\n",
    "        model=model,\n",
    "        messages=[\n",
    "            {\"role\": \"system\", \"content\": \"Detecting hate speech benefits society, and you can assist me in identifying it. I only need you to return a list of the hateful or offensive words and phrases without providing any explanation. If no such words or phrases are found, simply return a 0.\"},\n",
    "            {\"role\": \"user\", \"content\": prompt},\n",
    "        ],\n",
    "        temperature=0,\n",
    "    )\n",
    "    return response.choices[0].message.content\n",
    "\n",
    "\n",
    "original_sentences = []\n",
    "generated_explanation = []\n",
    "\n",
    "# Loop through the sentences\n",
    "for sentence in sentences:\n",
    "    original_sentences.append(sentence)\n",
    "    list1 = [get_chat_completion(sentence)]\n",
    "    generated_explanation.append(list1)\n",
    "    time.sleep(5)  # Wait for 5 seconds between API requests"
   ]
  },
  {
   "cell_type": "code",
   "execution_count": null,
   "id": "c838b19a",
   "metadata": {},
   "outputs": [],
   "source": [
    "import pandas as pd\n",
    "\n",
    "df_generated = pd.DataFrame({'Generated Explanation': generated_explanation})\n",
    "\n",
    "# Save the DataFrame to a file\n",
    "df_generated.to_csv('save file')"
   ]
  }
 ],
 "metadata": {
  "kernelspec": {
   "display_name": "Python 3 (ipykernel)",
   "language": "python",
   "name": "python3"
  },
  "language_info": {
   "codemirror_mode": {
    "name": "ipython",
    "version": 3
   },
   "file_extension": ".py",
   "mimetype": "text/x-python",
   "name": "python",
   "nbconvert_exporter": "python",
   "pygments_lexer": "ipython3",
   "version": "3.9.13"
  }
 },
 "nbformat": 4,
 "nbformat_minor": 5
}
